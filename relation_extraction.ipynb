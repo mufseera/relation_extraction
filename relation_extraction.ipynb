{
  "nbformat": 4,
  "nbformat_minor": 0,
  "metadata": {
    "colab": {
      "name": "relation_extraction.ipynb",
      "provenance": [],
      "collapsed_sections": []
    },
    "kernelspec": {
      "name": "python3",
      "display_name": "Python 3"
    },
    "language_info": {
      "name": "python"
    },
    "accelerator": "GPU"
  },
  "cells": [
    {
      "cell_type": "code",
      "execution_count": 1,
      "metadata": {
        "colab": {
          "base_uri": "https://localhost:8080/"
        },
        "id": "SSj3Pbp8q8gE",
        "outputId": "6be8f3e5-dce7-4273-c9b6-c51f4e5023b0"
      },
      "outputs": [
        {
          "output_type": "stream",
          "name": "stdout",
          "text": [
            "Wed Dec 22 15:05:11 2021       \n",
            "+-----------------------------------------------------------------------------+\n",
            "| NVIDIA-SMI 495.44       Driver Version: 460.32.03    CUDA Version: 11.2     |\n",
            "|-------------------------------+----------------------+----------------------+\n",
            "| GPU  Name        Persistence-M| Bus-Id        Disp.A | Volatile Uncorr. ECC |\n",
            "| Fan  Temp  Perf  Pwr:Usage/Cap|         Memory-Usage | GPU-Util  Compute M. |\n",
            "|                               |                      |               MIG M. |\n",
            "|===============================+======================+======================|\n",
            "|   0  Tesla K80           Off  | 00000000:00:04.0 Off |                    0 |\n",
            "| N/A   37C    P8    28W / 149W |      0MiB / 11441MiB |      0%      Default |\n",
            "|                               |                      |                  N/A |\n",
            "+-------------------------------+----------------------+----------------------+\n",
            "                                                                               \n",
            "+-----------------------------------------------------------------------------+\n",
            "| Processes:                                                                  |\n",
            "|  GPU   GI   CI        PID   Type   Process name                  GPU Memory |\n",
            "|        ID   ID                                                   Usage      |\n",
            "|=============================================================================|\n",
            "|  No running processes found                                                 |\n",
            "+-----------------------------------------------------------------------------+\n"
          ]
        }
      ],
      "source": [
        "!nvidia-smi"
      ]
    },
    {
      "cell_type": "code",
      "source": [
        "!pip install -U spacy-nightly --pre"
      ],
      "metadata": {
        "colab": {
          "base_uri": "https://localhost:8080/"
        },
        "id": "GohXplzoq_-w",
        "outputId": "6083c948-1128-4abb-d81b-e075ffae3f80"
      },
      "execution_count": 3,
      "outputs": [
        {
          "output_type": "stream",
          "name": "stdout",
          "text": [
            "Requirement already satisfied: spacy-nightly in /usr/local/lib/python3.7/dist-packages (3.0.0rc5)\n",
            "Requirement already satisfied: typer<0.4.0,>=0.3.0 in /usr/local/lib/python3.7/dist-packages (from spacy-nightly) (0.3.2)\n",
            "Requirement already satisfied: blis<0.8.0,>=0.4.0 in /usr/local/lib/python3.7/dist-packages (from spacy-nightly) (0.4.1)\n",
            "Requirement already satisfied: tqdm<5.0.0,>=4.38.0 in /usr/local/lib/python3.7/dist-packages (from spacy-nightly) (4.62.3)\n",
            "Requirement already satisfied: murmurhash<1.1.0,>=0.28.0 in /usr/local/lib/python3.7/dist-packages (from spacy-nightly) (1.0.6)\n",
            "Requirement already satisfied: requests<3.0.0,>=2.13.0 in /usr/local/lib/python3.7/dist-packages (from spacy-nightly) (2.23.0)\n",
            "Requirement already satisfied: numpy>=1.15.0 in /usr/local/lib/python3.7/dist-packages (from spacy-nightly) (1.19.5)\n",
            "Requirement already satisfied: preshed<3.1.0,>=3.0.2 in /usr/local/lib/python3.7/dist-packages (from spacy-nightly) (3.0.6)\n",
            "Requirement already satisfied: pydantic<1.8.0,>=1.7.1 in /usr/local/lib/python3.7/dist-packages (from spacy-nightly) (1.7.4)\n",
            "Requirement already satisfied: typing-extensions>=3.7.4 in /usr/local/lib/python3.7/dist-packages (from spacy-nightly) (3.10.0.2)\n",
            "Requirement already satisfied: spacy-legacy<3.1.0,>=3.0.0.dev0 in /usr/local/lib/python3.7/dist-packages (from spacy-nightly) (3.0.8)\n",
            "Requirement already satisfied: wasabi<1.1.0,>=0.8.1 in /usr/local/lib/python3.7/dist-packages (from spacy-nightly) (0.8.2)\n",
            "Requirement already satisfied: importlib-metadata>=0.20 in /usr/local/lib/python3.7/dist-packages (from spacy-nightly) (4.8.2)\n",
            "Requirement already satisfied: cymem<2.1.0,>=2.0.2 in /usr/local/lib/python3.7/dist-packages (from spacy-nightly) (2.0.6)\n",
            "Requirement already satisfied: catalogue<2.1.0,>=2.0.1 in /usr/local/lib/python3.7/dist-packages (from spacy-nightly) (2.0.6)\n",
            "Requirement already satisfied: jinja2 in /usr/local/lib/python3.7/dist-packages (from spacy-nightly) (2.11.3)\n",
            "Requirement already satisfied: pathy in /usr/local/lib/python3.7/dist-packages (from spacy-nightly) (0.6.1)\n",
            "Requirement already satisfied: setuptools in /usr/local/lib/python3.7/dist-packages (from spacy-nightly) (57.4.0)\n",
            "Requirement already satisfied: srsly<3.0.0,>=2.3.0 in /usr/local/lib/python3.7/dist-packages (from spacy-nightly) (2.4.2)\n",
            "Requirement already satisfied: thinc<8.1.0,>=8.0.0 in /usr/local/lib/python3.7/dist-packages (from spacy-nightly) (8.0.14.dev0)\n",
            "Requirement already satisfied: packaging>=20.0 in /usr/local/lib/python3.7/dist-packages (from spacy-nightly) (21.3)\n",
            "Requirement already satisfied: zipp>=0.5 in /usr/local/lib/python3.7/dist-packages (from catalogue<2.1.0,>=2.0.1->spacy-nightly) (3.6.0)\n",
            "Requirement already satisfied: pyparsing!=3.0.5,>=2.0.2 in /usr/local/lib/python3.7/dist-packages (from packaging>=20.0->spacy-nightly) (3.0.6)\n",
            "Requirement already satisfied: certifi>=2017.4.17 in /usr/local/lib/python3.7/dist-packages (from requests<3.0.0,>=2.13.0->spacy-nightly) (2021.10.8)\n",
            "Requirement already satisfied: urllib3!=1.25.0,!=1.25.1,<1.26,>=1.21.1 in /usr/local/lib/python3.7/dist-packages (from requests<3.0.0,>=2.13.0->spacy-nightly) (1.24.3)\n",
            "Requirement already satisfied: chardet<4,>=3.0.2 in /usr/local/lib/python3.7/dist-packages (from requests<3.0.0,>=2.13.0->spacy-nightly) (3.0.4)\n",
            "Requirement already satisfied: idna<3,>=2.5 in /usr/local/lib/python3.7/dist-packages (from requests<3.0.0,>=2.13.0->spacy-nightly) (2.10)\n",
            "Requirement already satisfied: click<7.2.0,>=7.1.1 in /usr/local/lib/python3.7/dist-packages (from typer<0.4.0,>=0.3.0->spacy-nightly) (7.1.2)\n",
            "Requirement already satisfied: MarkupSafe>=0.23 in /usr/local/lib/python3.7/dist-packages (from jinja2->spacy-nightly) (2.0.1)\n",
            "Requirement already satisfied: smart-open<6.0.0,>=5.0.0 in /usr/local/lib/python3.7/dist-packages (from pathy->spacy-nightly) (5.2.1)\n"
          ]
        }
      ]
    },
    {
      "cell_type": "code",
      "source": [
        "# wheel package\n",
        "!pip install -U pip setuptools wheel"
      ],
      "metadata": {
        "colab": {
          "base_uri": "https://localhost:8080/"
        },
        "id": "5I17qjPCrUl7",
        "outputId": "5f821829-3ce3-404b-ddbc-9080c71df8ff"
      },
      "execution_count": 1,
      "outputs": [
        {
          "output_type": "stream",
          "name": "stdout",
          "text": [
            "Requirement already satisfied: pip in /usr/local/lib/python3.7/dist-packages (21.3.1)\n",
            "Requirement already satisfied: setuptools in /usr/local/lib/python3.7/dist-packages (60.0.4)\n",
            "Requirement already satisfied: wheel in /usr/local/lib/python3.7/dist-packages (0.37.1)\n",
            "\u001b[33mWARNING: Running pip as the 'root' user can result in broken permissions and conflicting behaviour with the system package manager. It is recommended to use a virtual environment instead: https://pip.pypa.io/warnings/venv\u001b[0m\n"
          ]
        }
      ]
    },
    {
      "cell_type": "code",
      "source": [
        "# clone spacy's relation extraction repo\n",
        "!python -m spacy project clone tutorials/rel_component"
      ],
      "metadata": {
        "colab": {
          "base_uri": "https://localhost:8080/"
        },
        "id": "TX_A9jcVrYR-",
        "outputId": "374545de-f7cf-4d51-8af3-43c618d89d19"
      },
      "execution_count": 2,
      "outputs": [
        {
          "output_type": "stream",
          "name": "stdout",
          "text": [
            "\u001b[38;5;2m✔ Cloned 'tutorials/rel_component' from explosion/projects\u001b[0m\n",
            "/content/rel_component\n",
            "\u001b[38;5;2m✔ Your project is now ready!\u001b[0m\n",
            "To fetch the assets, run:\n",
            "python -m spacy project assets /content/rel_component\n"
          ]
        }
      ]
    },
    {
      "cell_type": "code",
      "source": [
        "# install transformer pipeline and spacy transformer library\n",
        "!python -m spacy download en_core_web_trf\n",
        "!pip install -U spacy tranformers"
      ],
      "metadata": {
        "colab": {
          "base_uri": "https://localhost:8080/"
        },
        "id": "V-nfDjwYsEAY",
        "outputId": "5529e662-b2e0-4279-8c76-ff4907ccbb9e"
      },
      "execution_count": 3,
      "outputs": [
        {
          "output_type": "stream",
          "name": "stdout",
          "text": [
            "Collecting en_core_web_trf==3.0.0\n",
            "  Downloading https://github.com/explosion/spacy-models/releases/download/en_core_web_trf-3.0.0/en_core_web_trf-3.0.0.tar.gz (459.7 MB)\n",
            "     |████████████████████████████████| 459.7 MB 1.3 MB/s            \n",
            "\u001b[?25h  Preparing metadata (setup.py) ... \u001b[?25l\u001b[?25hdone\n",
            "Collecting spacy<3.1.0,>=3.0.0\n",
            "  Downloading spacy-3.0.7-cp37-cp37m-manylinux_2_17_x86_64.manylinux2014_x86_64.whl (6.3 MB)\n",
            "     |████████████████████████████████| 6.3 MB 9.7 MB/s            \n",
            "\u001b[?25hCollecting spacy-transformers<1.1.0,>=1.0.0rc4\n",
            "  Downloading spacy_transformers-1.0.6-py2.py3-none-any.whl (42 kB)\n",
            "     |████████████████████████████████| 42 kB 25.2 MB/s            \n",
            "\u001b[?25hRequirement already satisfied: jinja2 in /usr/local/lib/python3.7/dist-packages (from spacy<3.1.0,>=3.0.0->en_core_web_trf==3.0.0) (2.11.3)\n",
            "Requirement already satisfied: typing-extensions<4.0.0.0,>=3.7.4 in /usr/local/lib/python3.7/dist-packages (from spacy<3.1.0,>=3.0.0->en_core_web_trf==3.0.0) (3.10.0.2)\n",
            "Requirement already satisfied: wasabi<1.1.0,>=0.8.1 in /usr/local/lib/python3.7/dist-packages (from spacy<3.1.0,>=3.0.0->en_core_web_trf==3.0.0) (0.8.2)\n",
            "Requirement already satisfied: cymem<2.1.0,>=2.0.2 in /usr/local/lib/python3.7/dist-packages (from spacy<3.1.0,>=3.0.0->en_core_web_trf==3.0.0) (2.0.6)\n",
            "Requirement already satisfied: murmurhash<1.1.0,>=0.28.0 in /usr/local/lib/python3.7/dist-packages (from spacy<3.1.0,>=3.0.0->en_core_web_trf==3.0.0) (1.0.6)\n",
            "Requirement already satisfied: requests<3.0.0,>=2.13.0 in /usr/local/lib/python3.7/dist-packages (from spacy<3.1.0,>=3.0.0->en_core_web_trf==3.0.0) (2.23.0)\n",
            "Requirement already satisfied: srsly<3.0.0,>=2.4.1 in /usr/local/lib/python3.7/dist-packages (from spacy<3.1.0,>=3.0.0->en_core_web_trf==3.0.0) (2.4.2)\n",
            "Requirement already satisfied: preshed<3.1.0,>=3.0.2 in /usr/local/lib/python3.7/dist-packages (from spacy<3.1.0,>=3.0.0->en_core_web_trf==3.0.0) (3.0.6)\n",
            "Requirement already satisfied: catalogue<2.1.0,>=2.0.4 in /usr/local/lib/python3.7/dist-packages (from spacy<3.1.0,>=3.0.0->en_core_web_trf==3.0.0) (2.0.6)\n",
            "Requirement already satisfied: packaging>=20.0 in /usr/local/lib/python3.7/dist-packages (from spacy<3.1.0,>=3.0.0->en_core_web_trf==3.0.0) (21.3)\n",
            "Requirement already satisfied: tqdm<5.0.0,>=4.38.0 in /usr/local/lib/python3.7/dist-packages (from spacy<3.1.0,>=3.0.0->en_core_web_trf==3.0.0) (4.62.3)\n",
            "Requirement already satisfied: pydantic!=1.8,!=1.8.1,<1.9.0,>=1.7.4 in /usr/local/lib/python3.7/dist-packages (from spacy<3.1.0,>=3.0.0->en_core_web_trf==3.0.0) (1.7.4)\n",
            "Requirement already satisfied: typer<0.4.0,>=0.3.0 in /usr/local/lib/python3.7/dist-packages (from spacy<3.1.0,>=3.0.0->en_core_web_trf==3.0.0) (0.3.2)\n",
            "Requirement already satisfied: blis<0.8.0,>=0.4.0 in /usr/local/lib/python3.7/dist-packages (from spacy<3.1.0,>=3.0.0->en_core_web_trf==3.0.0) (0.4.1)\n",
            "Requirement already satisfied: pathy>=0.3.5 in /usr/local/lib/python3.7/dist-packages (from spacy<3.1.0,>=3.0.0->en_core_web_trf==3.0.0) (0.6.1)\n",
            "Requirement already satisfied: numpy>=1.15.0 in /usr/local/lib/python3.7/dist-packages (from spacy<3.1.0,>=3.0.0->en_core_web_trf==3.0.0) (1.19.5)\n",
            "Requirement already satisfied: spacy-legacy<3.1.0,>=3.0.5 in /usr/local/lib/python3.7/dist-packages (from spacy<3.1.0,>=3.0.0->en_core_web_trf==3.0.0) (3.0.8)\n",
            "Requirement already satisfied: setuptools in /usr/local/lib/python3.7/dist-packages (from spacy<3.1.0,>=3.0.0->en_core_web_trf==3.0.0) (60.0.4)\n",
            "Requirement already satisfied: thinc<8.1.0,>=8.0.3 in /usr/local/lib/python3.7/dist-packages (from spacy<3.1.0,>=3.0.0->en_core_web_trf==3.0.0) (8.0.14.dev0)\n",
            "  Downloading spacy_transformers-1.0.5-py2.py3-none-any.whl (42 kB)\n",
            "     |████████████████████████████████| 42 kB 29.3 MB/s            \n",
            "\u001b[?25h  Downloading spacy_transformers-1.0.4-py2.py3-none-any.whl (40 kB)\n",
            "     |████████████████████████████████| 40 kB 49.1 MB/s            \n",
            "\u001b[?25hCollecting transformers<4.10.0,>=3.4.0\n",
            "  Downloading transformers-4.9.2-py3-none-any.whl (2.6 MB)\n",
            "     |████████████████████████████████| 2.6 MB 49.1 MB/s            \n",
            "\u001b[?25hRequirement already satisfied: torch>=1.5.0 in /usr/local/lib/python3.7/dist-packages (from spacy-transformers<1.1.0,>=1.0.0rc4->en_core_web_trf==3.0.0) (1.10.0+cu111)\n",
            "Collecting spacy-alignments<1.0.0,>=0.7.2\n",
            "  Downloading spacy_alignments-0.8.4-cp37-cp37m-manylinux_2_17_x86_64.manylinux2014_x86_64.whl (1.1 MB)\n",
            "     |████████████████████████████████| 1.1 MB 47.5 MB/s            \n",
            "\u001b[?25hRequirement already satisfied: zipp>=0.5 in /usr/local/lib/python3.7/dist-packages (from catalogue<2.1.0,>=2.0.4->spacy<3.1.0,>=3.0.0->en_core_web_trf==3.0.0) (3.6.0)\n",
            "Requirement already satisfied: pyparsing!=3.0.5,>=2.0.2 in /usr/local/lib/python3.7/dist-packages (from packaging>=20.0->spacy<3.1.0,>=3.0.0->en_core_web_trf==3.0.0) (3.0.6)\n",
            "Requirement already satisfied: smart-open<6.0.0,>=5.0.0 in /usr/local/lib/python3.7/dist-packages (from pathy>=0.3.5->spacy<3.1.0,>=3.0.0->en_core_web_trf==3.0.0) (5.2.1)\n",
            "Requirement already satisfied: chardet<4,>=3.0.2 in /usr/local/lib/python3.7/dist-packages (from requests<3.0.0,>=2.13.0->spacy<3.1.0,>=3.0.0->en_core_web_trf==3.0.0) (3.0.4)\n",
            "Requirement already satisfied: urllib3!=1.25.0,!=1.25.1,<1.26,>=1.21.1 in /usr/local/lib/python3.7/dist-packages (from requests<3.0.0,>=2.13.0->spacy<3.1.0,>=3.0.0->en_core_web_trf==3.0.0) (1.24.3)\n",
            "Requirement already satisfied: idna<3,>=2.5 in /usr/local/lib/python3.7/dist-packages (from requests<3.0.0,>=2.13.0->spacy<3.1.0,>=3.0.0->en_core_web_trf==3.0.0) (2.10)\n",
            "Requirement already satisfied: certifi>=2017.4.17 in /usr/local/lib/python3.7/dist-packages (from requests<3.0.0,>=2.13.0->spacy<3.1.0,>=3.0.0->en_core_web_trf==3.0.0) (2021.10.8)\n",
            "Requirement already satisfied: regex!=2019.12.17 in /usr/local/lib/python3.7/dist-packages (from transformers<4.10.0,>=3.4.0->spacy-transformers<1.1.0,>=1.0.0rc4->en_core_web_trf==3.0.0) (2019.12.20)\n",
            "Requirement already satisfied: filelock in /usr/local/lib/python3.7/dist-packages (from transformers<4.10.0,>=3.4.0->spacy-transformers<1.1.0,>=1.0.0rc4->en_core_web_trf==3.0.0) (3.4.0)\n",
            "Requirement already satisfied: importlib-metadata in /usr/local/lib/python3.7/dist-packages (from transformers<4.10.0,>=3.4.0->spacy-transformers<1.1.0,>=1.0.0rc4->en_core_web_trf==3.0.0) (4.8.2)\n",
            "Collecting sacremoses\n",
            "  Downloading sacremoses-0.0.46-py3-none-any.whl (895 kB)\n",
            "     |████████████████████████████████| 895 kB 46.7 MB/s            \n",
            "\u001b[?25hCollecting tokenizers<0.11,>=0.10.1\n",
            "  Downloading tokenizers-0.10.3-cp37-cp37m-manylinux_2_5_x86_64.manylinux1_x86_64.manylinux_2_12_x86_64.manylinux2010_x86_64.whl (3.3 MB)\n",
            "     |████████████████████████████████| 3.3 MB 54.0 MB/s            \n",
            "\u001b[?25hCollecting pyyaml>=5.1\n",
            "  Downloading PyYAML-6.0-cp37-cp37m-manylinux_2_5_x86_64.manylinux1_x86_64.manylinux_2_12_x86_64.manylinux2010_x86_64.whl (596 kB)\n",
            "     |████████████████████████████████| 596 kB 48.5 MB/s            \n",
            "\u001b[?25hCollecting huggingface-hub==0.0.12\n",
            "  Downloading huggingface_hub-0.0.12-py3-none-any.whl (37 kB)\n",
            "Requirement already satisfied: click<7.2.0,>=7.1.1 in /usr/local/lib/python3.7/dist-packages (from typer<0.4.0,>=0.3.0->spacy<3.1.0,>=3.0.0->en_core_web_trf==3.0.0) (7.1.2)\n",
            "Requirement already satisfied: MarkupSafe>=0.23 in /usr/local/lib/python3.7/dist-packages (from jinja2->spacy<3.1.0,>=3.0.0->en_core_web_trf==3.0.0) (2.0.1)\n",
            "Requirement already satisfied: joblib in /usr/local/lib/python3.7/dist-packages (from sacremoses->transformers<4.10.0,>=3.4.0->spacy-transformers<1.1.0,>=1.0.0rc4->en_core_web_trf==3.0.0) (1.1.0)\n",
            "Requirement already satisfied: six in /usr/local/lib/python3.7/dist-packages (from sacremoses->transformers<4.10.0,>=3.4.0->spacy-transformers<1.1.0,>=1.0.0rc4->en_core_web_trf==3.0.0) (1.15.0)\n",
            "Building wheels for collected packages: en-core-web-trf\n",
            "  Building wheel for en-core-web-trf (setup.py) ... \u001b[?25l\u001b[?25hdone\n",
            "  Created wheel for en-core-web-trf: filename=en_core_web_trf-3.0.0-py3-none-any.whl size=459708991 sha256=457fc581f2d3739320fc3ea080f4eb04574506468fbea26a628054162f76506a\n",
            "  Stored in directory: /tmp/pip-ephem-wheel-cache-509etuns/wheels/be/d9/92/c65214265163256ecc7588e6468c43feb86424a69bfe2fddb9\n",
            "Successfully built en-core-web-trf\n",
            "Installing collected packages: tokenizers, sacremoses, pyyaml, huggingface-hub, transformers, spacy-alignments, spacy, spacy-transformers, en-core-web-trf\n",
            "  Attempting uninstall: pyyaml\n",
            "    Found existing installation: PyYAML 3.13\n",
            "    Uninstalling PyYAML-3.13:\n",
            "      Successfully uninstalled PyYAML-3.13\n",
            "  Attempting uninstall: spacy\n",
            "    Found existing installation: spacy 2.2.4\n",
            "    Uninstalling spacy-2.2.4:\n",
            "      Successfully uninstalled spacy-2.2.4\n",
            "Successfully installed en-core-web-trf-3.0.0 huggingface-hub-0.0.12 pyyaml-6.0 sacremoses-0.0.46 spacy-3.0.7 spacy-alignments-0.8.4 spacy-transformers-1.0.4 tokenizers-0.10.3 transformers-4.9.2\n",
            "\u001b[33mWARNING: Running pip as the 'root' user can result in broken permissions and conflicting behaviour with the system package manager. It is recommended to use a virtual environment instead: https://pip.pypa.io/warnings/venv\u001b[0m\n",
            "\u001b[38;5;2m✔ Download and installation successful\u001b[0m\n",
            "You can now load the package via spacy.load('en_core_web_trf')\n",
            "Requirement already satisfied: spacy in /usr/local/lib/python3.7/dist-packages (3.0.7)\n",
            "Collecting spacy\n",
            "  Downloading spacy-3.2.1-cp37-cp37m-manylinux_2_17_x86_64.manylinux2014_x86_64.whl (6.0 MB)\n",
            "     |████████████████████████████████| 6.0 MB 13.0 MB/s            \n",
            "\u001b[31mERROR: Could not find a version that satisfies the requirement tranformers (from versions: none)\u001b[0m\n",
            "\u001b[31mERROR: No matching distribution found for tranformers\u001b[0m\n",
            "\u001b[?25h"
          ]
        }
      ]
    },
    {
      "cell_type": "code",
      "source": [
        "cd rel_component"
      ],
      "metadata": {
        "colab": {
          "base_uri": "https://localhost:8080/"
        },
        "id": "655G95DfsjKP",
        "outputId": "54427855-45c8-4ba0-e998-1c40bbdb1f7d"
      },
      "execution_count": 4,
      "outputs": [
        {
          "output_type": "stream",
          "name": "stdout",
          "text": [
            "/content/rel_component\n"
          ]
        }
      ]
    },
    {
      "cell_type": "code",
      "source": [
        "# create a data folder and upload train,test,dev .spacy file\n",
        "# open project.yml file and update path of the train,test,and dev\n",
        "# you can change transformer model by using configs/rel_trf.cfg\n",
        "# before start training decrease max_length in configs/rel_trf.cfg from default 100 token to 20to increase the effeciency of our model.\n",
        "# max_length corresponds to max_distance between two entities above which they will not considered for relation classification.\n",
        "# two entittes from a document will be classified as long as they are within maximum distance of each other."
      ],
      "metadata": {
        "id": "Zl3fiTAotVtK"
      },
      "execution_count": null,
      "outputs": []
    },
    {
      "cell_type": "code",
      "source": [
        "!spacy project run train_gpu # command to train train transformers\n",
        "!spacy project run evaluate # command to evaluate on test dataset"
      ],
      "metadata": {
        "colab": {
          "base_uri": "https://localhost:8080/"
        },
        "id": "k10utNGatCSU",
        "outputId": "b8975355-baad-4910-b7d1-dfafce984df8"
      },
      "execution_count": 5,
      "outputs": [
        {
          "output_type": "stream",
          "name": "stdout",
          "text": [
            "\u001b[1m\n",
            "================================= train_gpu =================================\u001b[0m\n",
            "Running command: /usr/bin/python3 -m spacy train configs/rel_trf.cfg --output training --paths.train /content/rel_component/data/relations_training.spacy --paths.dev /content/rel_component/data/relations_dev.spacy -c ./scripts/custom_functions.py --gpu-id 0\n",
            "\u001b[38;5;4mℹ Using GPU: 0\u001b[0m\n",
            "\u001b[1m\n",
            "=========================== Initializing pipeline ===========================\u001b[0m\n",
            "[2021-12-22 15:13:58,175] [INFO] Set up nlp object from config\n",
            "[2021-12-22 15:13:58,186] [INFO] Pipeline: ['transformer', 'relation_extractor']\n",
            "[2021-12-22 15:13:58,192] [INFO] Created vocabulary\n",
            "[2021-12-22 15:13:58,192] [INFO] Finished initializing nlp object\n",
            "Downloading: 100% 481/481 [00:00<00:00, 412kB/s]\n",
            "Downloading: 100% 899k/899k [00:00<00:00, 2.16MB/s]\n",
            "Downloading: 100% 456k/456k [00:00<00:00, 1.12MB/s]\n",
            "Downloading: 100% 1.36M/1.36M [00:00<00:00, 2.72MB/s]\n",
            "Downloading: 100% 501M/501M [00:13<00:00, 36.0MB/s]\n",
            "Some weights of the model checkpoint at roberta-base were not used when initializing RobertaModel: ['lm_head.dense.weight', 'lm_head.layer_norm.bias', 'lm_head.bias', 'lm_head.dense.bias', 'lm_head.decoder.weight', 'lm_head.layer_norm.weight']\n",
            "- This IS expected if you are initializing RobertaModel from the checkpoint of a model trained on another task or with another architecture (e.g. initializing a BertForSequenceClassification model from a BertForPreTraining model).\n",
            "- This IS NOT expected if you are initializing RobertaModel from the checkpoint of a model that you expect to be exactly identical (initializing a BertForSequenceClassification model from a BertForSequenceClassification model).\n",
            "[2021-12-22 15:15:28,457] [INFO] Initialized pipeline components: ['transformer', 'relation_extractor']\n",
            "\u001b[38;5;2m✔ Initialized pipeline\u001b[0m\n",
            "\u001b[1m\n",
            "============================= Training pipeline =============================\u001b[0m\n",
            "\u001b[38;5;4mℹ Pipeline: ['transformer', 'relation_extractor']\u001b[0m\n",
            "\u001b[38;5;4mℹ Initial learn rate: 0.0\u001b[0m\n",
            "E    #       LOSS TRANS...  LOSS RELAT...  REL_MICRO_P  REL_MICRO_R  REL_MICRO_F  SCORE \n",
            "---  ------  -------------  -------------  -----------  -----------  -----------  ------\n",
            "  0       0           0.32           0.72         6.71        89.36        12.48    0.12\n",
            " 12     100          11.07          16.03        86.96        63.83        73.62    0.74\n",
            " 25     200           0.23           2.62        78.45        96.81        86.67    0.87\n",
            " 37     300           0.12           2.00        86.73        90.43        88.54    0.89\n",
            " 50     400           0.04           1.46        85.32        98.94        91.63    0.92\n",
            " 62     500           0.02           1.26        85.19        97.87        91.09    0.91\n",
            " 75     600           0.01           1.20        86.11        98.94        92.08    0.92\n",
            " 87     700           0.01           1.21        87.50        96.81        91.92    0.92\n",
            "100     800           0.01           1.19        90.72        93.62        92.15    0.92\n",
            "112     900           0.01           1.18        91.49        91.49        91.49    0.91\n",
            "125    1000           0.01           1.17        90.91        95.74        93.26    0.93\n",
            "\u001b[38;5;2m✔ Saved pipeline to output directory\u001b[0m\n",
            "training/model-last\n",
            "\u001b[1m\n",
            "================================== evaluate ==================================\u001b[0m\n",
            "Running command: /usr/bin/python3 ./scripts/evaluate.py training/model-best /content/rel_component/data/relations_test.spacy False\n",
            "\n",
            "Random baseline:\n",
            "threshold 0.00 \t {'rel_micro_p': '5.49', 'rel_micro_r': '100.00', 'rel_micro_f': '10.41'}\n",
            "threshold 0.05 \t {'rel_micro_p': '5.15', 'rel_micro_r': '89.23', 'rel_micro_f': '9.73'}\n",
            "threshold 0.10 \t {'rel_micro_p': '5.03', 'rel_micro_r': '81.54', 'rel_micro_f': '9.47'}\n",
            "threshold 0.20 \t {'rel_micro_p': '5.29', 'rel_micro_r': '75.38', 'rel_micro_f': '9.89'}\n",
            "threshold 0.30 \t {'rel_micro_p': '5.38', 'rel_micro_r': '66.15', 'rel_micro_f': '9.94'}\n",
            "threshold 0.40 \t {'rel_micro_p': '5.74', 'rel_micro_r': '60.00', 'rel_micro_f': '10.48'}\n",
            "threshold 0.50 \t {'rel_micro_p': '5.86', 'rel_micro_r': '50.77', 'rel_micro_f': '10.51'}\n",
            "threshold 0.60 \t {'rel_micro_p': '6.01', 'rel_micro_r': '41.54', 'rel_micro_f': '10.51'}\n",
            "threshold 0.70 \t {'rel_micro_p': '6.25', 'rel_micro_r': '32.31', 'rel_micro_f': '10.47'}\n",
            "threshold 0.80 \t {'rel_micro_p': '7.83', 'rel_micro_r': '26.15', 'rel_micro_f': '12.06'}\n",
            "threshold 0.90 \t {'rel_micro_p': '7.08', 'rel_micro_r': '12.31', 'rel_micro_f': '8.99'}\n",
            "threshold 0.99 \t {'rel_micro_p': '0.00', 'rel_micro_r': '0.00', 'rel_micro_f': '0.00'}\n",
            "threshold 1.00 \t {'rel_micro_p': '0.00', 'rel_micro_r': '0.00', 'rel_micro_f': '0.00'}\n",
            "\n",
            "Results of the trained model:\n",
            "threshold 0.00 \t {'rel_micro_p': '5.49', 'rel_micro_r': '100.00', 'rel_micro_f': '10.41'}\n",
            "threshold 0.05 \t {'rel_micro_p': '64.95', 'rel_micro_r': '96.92', 'rel_micro_f': '77.78'}\n",
            "threshold 0.10 \t {'rel_micro_p': '72.41', 'rel_micro_r': '96.92', 'rel_micro_f': '82.89'}\n",
            "threshold 0.20 \t {'rel_micro_p': '78.48', 'rel_micro_r': '95.38', 'rel_micro_f': '86.11'}\n",
            "threshold 0.30 \t {'rel_micro_p': '78.48', 'rel_micro_r': '95.38', 'rel_micro_f': '86.11'}\n",
            "threshold 0.40 \t {'rel_micro_p': '81.33', 'rel_micro_r': '93.85', 'rel_micro_f': '87.14'}\n",
            "threshold 0.50 \t {'rel_micro_p': '82.43', 'rel_micro_r': '93.85', 'rel_micro_f': '87.77'}\n",
            "threshold 0.60 \t {'rel_micro_p': '82.19', 'rel_micro_r': '92.31', 'rel_micro_f': '86.96'}\n",
            "threshold 0.70 \t {'rel_micro_p': '81.69', 'rel_micro_r': '89.23', 'rel_micro_f': '85.29'}\n",
            "threshold 0.80 \t {'rel_micro_p': '81.25', 'rel_micro_r': '80.00', 'rel_micro_f': '80.62'}\n",
            "threshold 0.90 \t {'rel_micro_p': '82.14', 'rel_micro_r': '70.77', 'rel_micro_f': '76.03'}\n",
            "threshold 0.99 \t {'rel_micro_p': '86.96', 'rel_micro_r': '30.77', 'rel_micro_f': '45.45'}\n",
            "threshold 1.00 \t {'rel_micro_p': '60.00', 'rel_micro_r': '4.62', 'rel_micro_f': '8.57'}\n"
          ]
        }
      ]
    },
    {
      "cell_type": "markdown",
      "source": [
        "### Joint entity and relation extraction pipeline"
      ],
      "metadata": {
        "id": "hqB366P7-d63"
      }
    },
    {
      "cell_type": "code",
      "source": [
        "# install spacy transformers and transformer pipeline\n",
        "!pip install -U spacy\n",
        "!python -m spacy download en_core_web_trf"
      ],
      "metadata": {
        "id": "X3OmsXWK-exc"
      },
      "execution_count": null,
      "outputs": []
    },
    {
      "cell_type": "code",
      "source": [
        "# Load the NER model and extract entities:"
      ],
      "metadata": {
        "id": "3zxGMM4e-h5o"
      },
      "execution_count": null,
      "outputs": []
    },
    {
      "cell_type": "code",
      "source": [
        "nlp = spacy.load(\"/content/output/model-best\")"
      ],
      "metadata": {
        "id": "waNrWRjF-h80"
      },
      "execution_count": null,
      "outputs": []
    },
    {
      "cell_type": "code",
      "source": [
        "text =[\"\"\"\n",
        "2+ years of non-internship professional software development experience\n",
        "Programming experience with at least one modern language such as Java, C++, or C# including object-oriented design.\n",
        "1+ years of experience contributing to the architecture and design (architecture, design patterns, reliability and scaling) of new and current systems.\n",
        "Bachelor / MS Degree in Computer Science. Preferably a PhD in data science.\n",
        "8+ years of professional experience in software development. 2+ years of experience in project management.\n",
        "Experience in mentoring junior software engineers to improve their skills, and make them more effective, product software engineers.\n",
        "Experience in data structures, algorithm design, complexity analysis, object-oriented design.\n",
        "3+ years experience in at least one modern programming language such as Java, Scala, Python, C++, C#\n",
        "Experience in professional software engineering practices & best practices for the full software development life cycle, including coding standards, code reviews, source control management, build processes, testing, and operations\n",
        "Experience in communicating with users, other technical teams, and management to collect requirements, describe software product features, and technical designs.\n",
        "Experience with building complex software systems that have been successfully delivered to customers\n",
        "Proven ability to take a project from scoping requirements through actual launch of the project, with experience in the subsequent operation of the system in production\n",
        "\"\"\"]"
      ],
      "metadata": {
        "id": "-pyN4Vwo-h_e"
      },
      "execution_count": null,
      "outputs": []
    },
    {
      "cell_type": "code",
      "source": [
        "for doc in nlp.pipe(text, disable= [\"tagger\"]):\n",
        "  print(f\"spans :{[(e.start,e.text,e.label_) for e in doc.ents]}\")"
      ],
      "metadata": {
        "id": "PE9Kb1Y4-iCH"
      },
      "execution_count": null,
      "outputs": []
    },
    {
      "cell_type": "code",
      "source": [
        "import spacy\n",
        "import random\n",
        "import typer\n",
        "from pathlib import Path\n",
        "from spacy.tokens import DocBin, Doc\n",
        "from spacy.training.example import Example\n",
        "from rel_pipe import make_relation_extractor, score_relations\n",
        "from rel_model import create_relation_model, create_classification_layer, create_instances, create_tensors"
      ],
      "metadata": {
        "id": "ufznAsVn-wkX"
      },
      "execution_count": null,
      "outputs": []
    },
    {
      "cell_type": "code",
      "source": [
        "nlp2 = spacy.load(\"/content/rel_component/training/model-best\")"
      ],
      "metadata": {
        "id": "IreaGzy6-zX0"
      },
      "execution_count": null,
      "outputs": []
    },
    {
      "cell_type": "code",
      "source": [
        "#  we take the entities generated from the NER pipeline and input them to REL pipeline\n",
        "for name, proc in nlp2.pipeline:\n",
        "          doc = proc(doc)"
      ],
      "metadata": {
        "id": "qq36m_1i-1-7"
      },
      "execution_count": null,
      "outputs": []
    },
    {
      "cell_type": "code",
      "source": [
        "# here we split the paragraph into sentences and apply the relation entraction for each pair of entites found in each sentence.\n",
        "for value, rel_dict in doc._.rel.items():\n",
        "  for sent in doc.sents:\n",
        "    for e in sent.ents:\n",
        "      for b in sent.ents:\n",
        "        if e.start == value[0] and b.start == value[1]:\n",
        "          if rel_dict[\"EXPERIENCE_IN\"] >= 0.9:\n",
        "            print(f\"entities:{e.text, b.text} --> predicted relation :{rel_dict}\")\n"
      ],
      "metadata": {
        "id": "IV1s_LLK-4Lh"
      },
      "execution_count": null,
      "outputs": []
    }
  ]
}